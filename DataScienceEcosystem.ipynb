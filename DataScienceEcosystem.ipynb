{
 "cells": [
  {
   "cell_type": "markdown",
   "id": "1bded907-ec07-4986-a7c5-16599dd530d9",
   "metadata": {},
   "source": [
    "Data Science Tools and Ecosystem"
   ]
  },
  {
   "cell_type": "markdown",
   "id": "fb263962-99dd-4a42-b91c-caf950ccb187",
   "metadata": {},
   "source": [
    "In this notebook, Data Science Tools and Ecosystem are summarized."
   ]
  },
  {
   "cell_type": "markdown",
   "id": "8259d60a-6382-44f7-a3d2-a1f00632b366",
   "metadata": {},
   "source": [
    "**Objectives:**\n",
    "\n",
    "-Create a Jupyter Notebook\n",
    "-Insert code and markdown cells\n",
    "-Share your notebook through GitHub\n",
    "-List popular languages for Data Science\n",
    "-List popular libraries\n",
    "\n",
    "##  Author\n",
    "    Shahed\n",
    "\n"
   ]
  },
  {
   "cell_type": "markdown",
   "id": "99a64f97-0fb9-4948-935b-42c9aa1823bb",
   "metadata": {},
   "source": [
    "Some of the popular languages that Data Scientists use are:\n",
    "1. Python\n",
    "2. R\n",
    "3. SQL"
   ]
  },
  {
   "cell_type": "markdown",
   "id": "fb8cb8c7-e8ed-43a9-9b87-5b2955075cc1",
   "metadata": {},
   "source": [
    "Some of the commonly used libraries used by Data Scientists include:\n",
    "1. NumPy\n",
    "2. Pandas\n",
    "3. Matplotlib"
   ]
  },
  {
   "cell_type": "markdown",
   "id": "3e6cec04-71de-483f-866d-743b4901487d",
   "metadata": {},
   "source": [
    "Data Science Tools\n",
    "..................\n",
    "Jupyter Notebook\n",
    "RStudio\n",
    "Git\n",
    "\n",
    "\n",
    "### Below are a few examples of evaluating arithmetic expressions in Python"
   ]
  },
  {
   "cell_type": "code",
   "execution_count": 2,
   "id": "54d6d4d2-80a0-4600-bbd5-b2529b6eaa7f",
   "metadata": {},
   "outputs": [
    {
     "data": {
      "text/plain": [
       "17"
      ]
     },
     "execution_count": 2,
     "metadata": {},
     "output_type": "execute_result"
    }
   ],
   "source": [
    "# This a simple arithmetic expression to mutiply then add integers\n",
    "\n",
    "(3*4)+5"
   ]
  },
  {
   "cell_type": "code",
   "execution_count": 4,
   "id": "ff9e1123-51f9-4ff0-8d84-78a12452bc0b",
   "metadata": {},
   "outputs": [
    {
     "data": {
      "text/plain": [
       "3.3333333333333335"
      ]
     },
     "execution_count": 4,
     "metadata": {},
     "output_type": "execute_result"
    }
   ],
   "source": [
    "# This will convert 200 minutes to hours by diving by 60\n",
    "\n",
    "200/60"
   ]
  },
  {
   "cell_type": "code",
   "execution_count": null,
   "id": "5e6a7374-8c1a-47d1-8e29-ad7677761680",
   "metadata": {},
   "outputs": [],
   "source": []
  }
 ],
 "metadata": {
  "kernelspec": {
   "display_name": "Python [conda env:base] *",
   "language": "python",
   "name": "conda-base-py"
  },
  "language_info": {
   "codemirror_mode": {
    "name": "ipython",
    "version": 3
   },
   "file_extension": ".py",
   "mimetype": "text/x-python",
   "name": "python",
   "nbconvert_exporter": "python",
   "pygments_lexer": "ipython3",
   "version": "3.12.7"
  }
 },
 "nbformat": 4,
 "nbformat_minor": 5
}
